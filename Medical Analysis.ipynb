{
 "cells": [
  {
   "cell_type": "markdown",
   "id": "0324f084",
   "metadata": {},
   "source": [
    "# Sujets de recherche et remarques"
   ]
  },
  {
   "cell_type": "raw",
   "id": "f53984ed",
   "metadata": {},
   "source": [
    "Après de petites recherches sur le domaine d'utilisation de machine learning dans le dépistage des maladies ayant relation avec l'œil, on constate que la démarche est plus ou moins la même reste à voir les caractéristiques du DataSet utilise. Ceci dit que l'annotation des images du \" Training DataSet \" est la phase, indispensable, qui permet de générer des résultats corrects."
   ]
  },
  {
   "cell_type": "markdown",
   "id": "bcdba1a7",
   "metadata": {},
   "source": [
    "#### Technologies :\n",
    "Le langage de programmation est le plus adapte pour un tel projet vu qu'il contient de nombreuse bibliothèque numérique ayant pour rôle de simplifier les étapes. \"SickitLearn\" est une bibliothèque qui contient des modèles prédéfinis et près à utiliser, ainsi qu'elle donne la possibilité de construire son propre model de \"Ensemble Learning\" sans besoins de toucher au code base des programmes prédéfinis. Dans le cas contraire, si on souhaite construire toutes les étapes de notre model pas à pas, NumPy peut servir à représenter les images sous forme numérique et en appliquant des transformations simplement. D’autre bibliothèque, comme OpenCv, peuvent servir dans la lecture des images.\n",
    "###  DataSet preprocessing :\n",
    "La base de données doit être prête à en appliquer un modèle de machine learning, i.e :\n",
    "**le nombre d'images doit être important** : on peut augmenter le nombre d'images en dupliquant les images et en appliquant des rotations et des translations.\n",
    "**Appliquer des transformations aux images si nécessaires** : selon le nécessite on peut avoir besoins d'appliquer des transformations aux images (traçage des vaisseaux par exemple)\n",
    "**les images doivent être clair**: on élimine les images qui non pas de valeur ajoutée (mauvaise qualité ou duplicates identiques ...)\n",
    "**Annotation des images** : C'est grâce à cette annotation que le modèle perfectionne les prédictions\n"
   ]
  },
  {
   "cell_type": "markdown",
   "id": "bfbd7ca4",
   "metadata": {},
   "source": [
    "##  Detection de Disque Optique ( Nerf Optique ) pour dépistage du Glaucome:"
   ]
  },
  {
   "cell_type": "markdown",
   "id": "5a6bba3e",
   "metadata": {},
   "source": [
    "Pour sorte d'inspiration, voici un exemple de model CNN qui permet de détecter le Glaucome en se basant sur des bases de données public :\n",
    "https://github.com/SaiHitesh16/Glaucoma-Detection-using-CNN/blob/main/CNN_combined.ipynb\n"
   ]
  },
  {
   "cell_type": "markdown",
   "id": "c1696687",
   "metadata": {},
   "source": [
    "# Autre Contributions :"
   ]
  },
  {
   "cell_type": "markdown",
   "id": "d09263b2",
   "metadata": {},
   "source": [
    "{1} : https://github.com/Tirth27/Detecting-diabetic-retinopathy\n",
    "{2} : https://github.com/getsanjeev/retina-features\n",
    "{3} : https://github.com/getsanjeev/retinal-exudates-detection"
   ]
  }
 ],
 "metadata": {
  "kernelspec": {
   "display_name": "Python 3 (ipykernel)",
   "language": "python",
   "name": "python3"
  },
  "language_info": {
   "codemirror_mode": {
    "name": "ipython",
    "version": 3
   },
   "file_extension": ".py",
   "mimetype": "text/x-python",
   "name": "python",
   "nbconvert_exporter": "python",
   "pygments_lexer": "ipython3",
   "version": "3.11.5"
  }
 },
 "nbformat": 4,
 "nbformat_minor": 5
}
